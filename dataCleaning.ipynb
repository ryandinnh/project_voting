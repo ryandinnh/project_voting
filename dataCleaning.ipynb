{
 "cells": [
  {
   "cell_type": "markdown",
   "id": "5bb76472-e13d-4118-af79-b29410cec8ba",
   "metadata": {},
   "source": [
    "# Cleaning Voting Data"
   ]
  },
  {
   "cell_type": "code",
   "execution_count": 2,
   "id": "9227b57f-75e6-4ac5-8ae8-35682574e5d7",
   "metadata": {},
   "outputs": [],
   "source": [
    "import geopandas as gpd\n",
    "import mapclassify\n",
    "import pandas as pd\n",
    "import matplotlib\n",
    "import matplotlib.pyplot as plt\n",
    "import numpy as np\n",
    "from mpl_toolkits.axes_grid1 import make_axes_locatable\n",
    "\n",
    "# Load data\n",
    "gdf = gpd.read_file(\"./va_admin_bndry/VirginiaCounty_ClippedToShoreline.shx\") # Load Virginia shapefile for maps\n",
    "vdf = pd.read_csv('./data/voting_VA.csv') # Load historical voting data\n",
    "cdf = pd.read_csv('./data/county_adjacencies.csv') # Load county adjacency data and population data"
   ]
  },
  {
   "cell_type": "code",
   "execution_count": 3,
   "id": "1259ef91",
   "metadata": {},
   "outputs": [
    {
     "name": "stdout",
     "output_type": "stream",
     "text": [
      "number of missing values: 0\n",
      "         STATE STATEA COUNTYA QSEE001 QSEE002 QSEE003 QSEE004 QSEE005 QSEE006  \\\n",
      "2821  Virginia     51     001   33454   16230    1001    1085     967     647   \n",
      "2822  Virginia     51     003   99484   47564    2913    2862    3245    1832   \n",
      "2823  Virginia     51     005   16297    7956     410     504     532     353   \n",
      "2824  Virginia     51     007   12674    6272     316     392     442     331   \n",
      "2825  Virginia     51     009   32301   15406     983     808    1117     624   \n",
      "\n",
      "     QSEE007  ... AMPWE009 AMPWE010 AMZME001 AMZME002 AMZME003 AMZME004  \\\n",
      "2821     350  ...      104     1047    54387     2189     2931     1712   \n",
      "2822    2474  ...      511      440    32227     2450     3923     2549   \n",
      "2823     195  ...      835     2775   101147     3988     3765     1755   \n",
      "2824     185  ...       13      228    14744     1378      937      617   \n",
      "2825     500  ...       99      205    12873      517      865      203   \n",
      "\n",
      "     AMZME005 AMZME006 AMZME007 AMZME008  \n",
      "2821     2347     2827     1735    40646  \n",
      "2822     1484     2554     1230    18037  \n",
      "2823     2497     4580     1763    82799  \n",
      "2824      539      973      507     9793  \n",
      "2825     1140      971      246     8931  \n",
      "\n",
      "[5 rows x 204 columns]\n",
      "(134, 204)\n"
     ]
    }
   ],
   "source": [
    "# 2012: 0002_ds191_20125_county_E.csv\n",
    "# 2016: 0002_ds225_20165_county_E.csv\n",
    "# 2020: 0002_ds249_20205_county_E.csv\n",
    "csv_files = [\"./data/county_data/0002_ds191_20125_county_E.csv\", \"./data/county_data/0002_ds225_20165_county_E.csv\", \"./data/county_data/0002_ds249_20205_county_E.csv\"]\n",
    "\n",
    "identifier_columns = [\"STATE\", \"STATEA\", \"COUNTYA\"]\n",
    "\n",
    "# relevant columns: 2012 variables, 2016 variables, 2020 variables\n",
    "# variable order: sex by age, race, ratio of income to poverty level in the past 12 months\n",
    "# column names pertain to each cattegory of each variable, look at the codebook for more information\n",
    "relevant_columns = [\n",
    "    \"QSEE001\", \"QSEE002\", \"QSEE003\", \"QSEE004\", \"QSEE005\", \"QSEE006\", \"QSEE007\", \"QSEE008\", \"QSEE009\", \"QSEE010\", \"QSEE011\", \"QSEE012\", \"QSEE013\", \"QSEE014\", \"QSEE015\", \"QSEE016\", \"QSEE017\", \"QSEE018\", \"QSEE019\", \"QSEE020\", \"QSEE021\", \"QSEE022\", \"QSEE023\", \"QSEE024\", \"QSEE025\", \"QSEE026\", \"QSEE027\", \"QSEE028\", \"QSEE029\", \"QSEE030\", \"QSEE031\", \"QSEE032\", \"QSEE033\", \"QSEE034\", \"QSEE035\", \"QSEE036\", \"QSEE037\", \"QSEE038\", \"QSEE039\", \"QSEE040\", \"QSEE041\", \"QSEE042\", \"QSEE043\", \"QSEE044\", \"QSEE045\", \"QSEE046\", \"QSEE047\", \"QSEE048\", \"QSEE049\",\n",
    "    \"QSQE001\", \"QSQE002\", \"QSQE003\", \"QSQE004\", \"QSQE005\", \"QSQE006\", \"QSQE007\", \"QSQE008\", \"QSQE009\", \"QSQE010\",\n",
    "    \"QUVE001\", \"QUVE002\", \"QUVE003\", \"QUVE004\", \"QUVE005\", \"QUVE006\", \"QUVE007\", \"QUVE008\",\n",
    "    \"AF2AE001\", \"AF2AE002\", \"AF2AE003\", \"AF2AE004\", \"AF2AE005\", \"AF2AE006\", \"AF2AE007\", \"AF2AE008\", \"AF2AE009\", \"AF2AE010\", \"AF2AE011\", \"AF2AE012\", \"AF2AE013\", \"AF2AE014\", \"AF2AE015\", \"AF2AE016\", \"AF2AE017\", \"AF2AE018\", \"AF2AE019\", \"AF2AE020\", \"AF2AE021\", \"AF2AE022\", \"AF2AE023\", \"AF2AE024\", \"AF2AE025\", \"AF2AE026\", \"AF2AE027\", \"AF2AE028\", \"AF2AE029\", \"AF2AE030\", \"AF2AE031\", \"AF2AE032\", \"AF2AE033\", \"AF2AE034\", \"AF2AE035\", \"AF2AE036\", \"AF2AE037\", \"AF2AE038\", \"AF2AE039\", \"AF2AE040\", \"AF2AE041\", \"AF2AE042\", \"AF2AE043\", \"AF2AE044\", \"AF2AE045\", \"AF2AE046\", \"AF2AE047\", \"AF2AE048\", \"AF2AE049\",\n",
    "    \"AF2ME001\", \"AF2ME002\", \"AF2ME003\", \"AF2ME004\", \"AF2ME005\", \"AF2ME006\", \"AF2ME007\", \"AF2ME008\", \"AF2ME009\", \"AF2ME010\",\n",
    "    \"AF43E001\", \"AF43E002\", \"AF43E003\", \"AF43E004\", \"AF43E005\", \"AF43E006\", \"AF43E007\", \"AF43E008\",\n",
    "    \"AMPKE001\", \"AMPKE002\", \"AMPKE003\", \"AMPKE004\", \"AMPKE005\", \"AMPKE006\", \"AMPKE007\", \"AMPKE008\", \"AMPKE009\", \"AMPKE010\", \"AMPKE011\", \"AMPKE012\", \"AMPKE013\", \"AMPKE014\", \"AMPKE015\", \"AMPKE016\", \"AMPKE017\", \"AMPKE018\", \"AMPKE019\", \"AMPKE020\", \"AMPKE021\", \"AMPKE022\", \"AMPKE023\", \"AMPKE024\", \"AMPKE025\", \"AMPKE026\", \"AMPKE027\", \"AMPKE028\", \"AMPKE029\", \"AMPKE030\", \"AMPKE031\", \"AMPKE032\", \"AMPKE033\", \"AMPKE034\", \"AMPKE035\", \"AMPKE036\", \"AMPKE037\", \"AMPKE038\", \"AMPKE039\", \"AMPKE040\", \"AMPKE041\", \"AMPKE042\", \"AMPKE043\", \"AMPKE044\", \"AMPKE045\", \"AMPKE046\", \"AMPKE047\", \"AMPKE048\", \"AMPKE049\",\n",
    "    \"AMPWE001\", \"AMPWE002\", \"AMPWE003\", \"AMPWE004\", \"AMPWE005\", \"AMPWE006\", \"AMPWE007\", \"AMPWE008\", \"AMPWE009\", \"AMPWE010\",\n",
    "    \"AMZME001\", \"AMZME002\", \"AMZME003\", \"AMZME004\", \"AMZME005\", \"AMZME006\", \"AMZME007\", \"AMZME008\"\n",
    "]\n",
    "\n",
    "#parse through csv files and put into dataFrames list\n",
    "first_time = True\n",
    "dataframes = []\n",
    "for file in csv_files:\n",
    "    df1 = pd.read_csv(file, low_memory=False, encoding='latin1')\n",
    "    if first_time:\n",
    "        df2 = df1[identifier_columns]\n",
    "        dataframes.append(df2)\n",
    "        first_time = False\n",
    "    df1.drop(columns=[col for col in df1.columns if col not in relevant_columns], inplace=True, errors='ignore')\n",
    "    dataframes.append(df1)\n",
    "\n",
    "#concat all DataFrames into one DataFrame\n",
    "demographics = pd.concat(dataframes, axis=1)\n",
    "demographics = demographics.loc[demographics[\"STATE\"] == \"Virginia\"]\n",
    "#find out how many missing values we have from nghis data\n",
    "print(f\"number of missing values: {demographics.isna().sum().sum()}\")\n",
    "#taking a look at the nghis data\n",
    "print(demographics.head())\n",
    "print(demographics.shape)"
   ]
  },
  {
   "cell_type": "code",
   "execution_count": 4,
   "id": "9a591168",
   "metadata": {},
   "outputs": [
    {
     "name": "stdout",
     "output_type": "stream",
     "text": [
      "           County  Population2022   FIPS  District                   N1  \\\n",
      "0        Accomack           33191  51001         2       Northumberland   \n",
      "1       Albemarle          114534  51003         5  CharlottesvilleCity   \n",
      "2  AlexandriaCity          155525  51510         8              Fairfax   \n",
      "3       Alleghany           14835  51005         6                Craig   \n",
      "4          Amelia           13455  51007         5         PrinceEdward   \n",
      "\n",
      "           N2         N3             N4           N5        N6  ... AMPWE009  \\\n",
      "0   Lancaster  Middlesex        Mathews  Northampton       NaN  ...      104   \n",
      "1      Nelson    Augusta     Rockingham       Greene    Orange  ...      511   \n",
      "2   Arlington        NaN            NaN          NaN       NaN  ...     1230   \n",
      "3        Bath  Botetourt  CovingtonCity   Rockbridge       NaN  ...      835   \n",
      "4  Cumberland   Powhatan   Chesterfield    Dinwiddie  Nottoway  ...       13   \n",
      "\n",
      "  AMPWE010 AMZME001 AMZME002 AMZME003 AMZME004 AMZME005 AMZME006 AMZME007  \\\n",
      "0     1047    54387     2189     2931     1712     2347     2827     1735   \n",
      "1      440    32227     2450     3923     2549     1484     2554     1230   \n",
      "2     2916    66454     1636     1575     1563     1298     2540      863   \n",
      "3     2775   101147     3988     3765     1755     2497     4580     1763   \n",
      "4      228    14744     1378      937      617      539      973      507   \n",
      "\n",
      "  AMZME008  \n",
      "0    40646  \n",
      "1    18037  \n",
      "2    56979  \n",
      "3    82799  \n",
      "4     9793  \n",
      "\n",
      "[5 rows x 217 columns]\n",
      "(133, 217)\n"
     ]
    }
   ],
   "source": [
    "# merge our selected variables into the county data\n",
    "demographics[\"FIPS\"] = (demographics[\"STATEA\"].astype(str) + demographics[\"COUNTYA\"].astype(str)).astype(int)\n",
    "demographics.drop(columns=[\"STATE\", \"STATEA\", \"COUNTYA\"], inplace=True, errors='ignore')\n",
    "county_demographics = pd.merge(cdf, demographics, on=\"FIPS\")\n",
    "print(county_demographics.head())\n",
    "print(county_demographics.shape)\n",
    "county_demographics.to_csv(\"./data/county_demographics.csv\")"
   ]
  },
  {
   "cell_type": "markdown",
   "id": "91e9276e",
   "metadata": {},
   "source": [
    "Combining geodata:"
   ]
  },
  {
   "cell_type": "code",
   "execution_count": 7,
   "id": "ccf9931f",
   "metadata": {},
   "outputs": [
    {
     "name": "stdout",
     "output_type": "stream",
     "text": [
      "number of missing values: 936\n",
      "  STCOFIPS     GNIS       NAME          NAMELSAD GSOURCE LADOPT  LASTUPDATE  \\\n",
      "0    51001  1480091   Accomack   Accomack County       T      N  2014-08-20   \n",
      "1    51003  1675170  Albemarle  Albemarle County       L      Y  2021-03-29   \n",
      "2    51005  1492459  Alleghany  Alleghany County       V      N  2014-09-15   \n",
      "3    51007  1497770     Amelia     Amelia County       T      Y  2021-03-29   \n",
      "4    51009  1480095    Amherst    Amherst County       V      N  2020-09-11   \n",
      "\n",
      "  JURISTYPE     AREASQMI    Shape_Leng  ...  AMPWE009 AMPWE010  AMZME001  \\\n",
      "0        CO  1195.366291  4.949957e+06  ...       104     1047     54387   \n",
      "1        CO   725.634334  2.310198e+05  ...       511      440     32227   \n",
      "2        CO   449.544769  2.062654e+05  ...       835     2775    101147   \n",
      "3        CO   360.945234  1.776617e+05  ...        13      228     14744   \n",
      "4        CO   478.766949  1.876610e+05  ...        99      205     12873   \n",
      "\n",
      "  AMZME002  AMZME003  AMZME004  AMZME005 AMZME006 AMZME007 AMZME008  \n",
      "0     2189      2931      1712      2347     2827     1735    40646  \n",
      "1     2450      3923      2549      1484     2554     1230    18037  \n",
      "2     3988      3765      1755      2497     4580     1763    82799  \n",
      "3     1378       937       617       539      973      507     9793  \n",
      "4      517       865       203      1140      971      246     8931  \n",
      "\n",
      "[5 rows x 230 columns]\n",
      "(133, 230)\n"
     ]
    }
   ],
   "source": [
    "gdf['FIPS_left'] = pd.to_numeric(gdf['STCOFIPS']) \n",
    "df = gdf.merge(county_demographics,left_on='FIPS_left',right_on='FIPS') \n",
    "\n",
    "print(f\"number of missing values: {df.isna().sum().sum()}\")\n",
    "#these missing values come from spliting counties into smaller regions, they are not variables we are going to use for our models and analysis\n",
    "\n",
    "#datasize\n",
    "print(df.head())\n",
    "print(df.shape)"
   ]
  },
  {
   "cell_type": "markdown",
   "id": "20b179be",
   "metadata": {},
   "source": [
    "Combing with voting data from 2020 now:"
   ]
  },
  {
   "cell_type": "code",
   "execution_count": 8,
   "id": "2428a7f3",
   "metadata": {},
   "outputs": [
    {
     "name": "stdout",
     "output_type": "stream",
     "text": [
      "number of missing values: 936\n",
      "  STCOFIPS     GNIS       NAME          NAMELSAD GSOURCE LADOPT  LASTUPDATE  \\\n",
      "0    51001  1480091   Accomack   Accomack County       T      N  2014-08-20   \n",
      "1    51003  1675170  Albemarle  Albemarle County       L      Y  2021-03-29   \n",
      "2    51005  1492459  Alleghany  Alleghany County       V      N  2014-09-15   \n",
      "3    51007  1497770     Amelia     Amelia County       T      Y  2021-03-29   \n",
      "4    51009  1480095    Amherst    Amherst County       V      N  2020-09-11   \n",
      "\n",
      "  JURISTYPE     AREASQMI    Shape_Leng  ...  AMZME001 AMZME002  AMZME003  \\\n",
      "0        CO  1195.366291  4.949957e+06  ...     54387     2189      2931   \n",
      "1        CO   725.634334  2.310198e+05  ...     32227     2450      3923   \n",
      "2        CO   449.544769  2.062654e+05  ...    101147     3988      3765   \n",
      "3        CO   360.945234  1.776617e+05  ...     14744     1378       937   \n",
      "4        CO   478.766949  1.876610e+05  ...     12873      517       865   \n",
      "\n",
      "  AMZME004  AMZME005  AMZME006  AMZME007 AMZME008 dem_votes_2020  \\\n",
      "0     1712      2347      2827      1735    40646           7578   \n",
      "1     2549      1484      2554      1230    18037          42466   \n",
      "2     1755      2497      4580      1763    82799           2243   \n",
      "3      617       539       973       507     9793           2411   \n",
      "4      203      1140       971       246     8931           5672   \n",
      "\n",
      "  rep_votes_2020  \n",
      "0           9172  \n",
      "1          20804  \n",
      "2           5859  \n",
      "3           5390  \n",
      "4          11041  \n",
      "\n",
      "[5 rows x 232 columns]\n",
      "(133, 232)\n"
     ]
    }
   ],
   "source": [
    "df20 = vdf.loc[ vdf['year']==2020,:] # Only the 2020 data\n",
    "\n",
    "Dvotes = df20.loc[(df20['party']=='DEMOCRAT'),:].groupby('county_fips')['candidatevotes'].sum()\n",
    "Dvotes = Dvotes.rename('dem_votes_2020')\n",
    "df = df.merge(Dvotes,left_on='FIPS_left',right_on='county_fips') #df1.merge(df2, left_on='lkey', right_on='rkey\n",
    "\n",
    "Rvotes = df20.loc[(df20['party']=='REPUBLICAN'),:].groupby('county_fips')['candidatevotes'].sum()\n",
    "Rvotes = Rvotes.rename('rep_votes_2020')\n",
    "df = df.merge(Rvotes,left_on='FIPS_left',right_on='county_fips') #df1.merge(df2, left_on='lkey', right_on='rkey\n",
    "\n",
    "print(f\"number of missing values: {df.isna().sum().sum()}\")\n",
    "#datasize\n",
    "print(df.head())\n",
    "print(df.shape)"
   ]
  },
  {
   "cell_type": "markdown",
   "id": "4a8d6c17",
   "metadata": {},
   "source": [
    "2016 votiing data:"
   ]
  },
  {
   "cell_type": "code",
   "execution_count": 9,
   "id": "6ac1dcb6",
   "metadata": {},
   "outputs": [
    {
     "name": "stdout",
     "output_type": "stream",
     "text": [
      "number of missing values: 936\n",
      "  STCOFIPS     GNIS       NAME          NAMELSAD GSOURCE LADOPT  LASTUPDATE  \\\n",
      "0    51001  1480091   Accomack   Accomack County       T      N  2014-08-20   \n",
      "1    51003  1675170  Albemarle  Albemarle County       L      Y  2021-03-29   \n",
      "2    51005  1492459  Alleghany  Alleghany County       V      N  2014-09-15   \n",
      "3    51007  1497770     Amelia     Amelia County       T      Y  2021-03-29   \n",
      "4    51009  1480095    Amherst    Amherst County       V      N  2020-09-11   \n",
      "\n",
      "  JURISTYPE     AREASQMI    Shape_Leng  ...  AMZME003 AMZME004  AMZME005  \\\n",
      "0        CO  1195.366291  4.949957e+06  ...      2931     1712      2347   \n",
      "1        CO   725.634334  2.310198e+05  ...      3923     2549      1484   \n",
      "2        CO   449.544769  2.062654e+05  ...      3765     1755      2497   \n",
      "3        CO   360.945234  1.776617e+05  ...       937      617       539   \n",
      "4        CO   478.766949  1.876610e+05  ...       865      203      1140   \n",
      "\n",
      "  AMZME006  AMZME007  AMZME008  dem_votes_2020 rep_votes_2020 dem_votes_2016  \\\n",
      "0     2827      1735     40646            7578           9172           6740   \n",
      "1     2554      1230     18037           42466          20804          33345   \n",
      "2     4580      1763     82799            2243           5859           2166   \n",
      "3      973       507      9793            2411           5390           2128   \n",
      "4      971       246      8931            5672          11041           5057   \n",
      "\n",
      "  rep_votes_2016  \n",
      "0           8583  \n",
      "1          19259  \n",
      "2           4874  \n",
      "3           4708  \n",
      "4           9719  \n",
      "\n",
      "[5 rows x 234 columns]\n",
      "(133, 234)\n"
     ]
    }
   ],
   "source": [
    "df16 = vdf.loc[ vdf['year']==2016,:] # Only the 2016 data\n",
    "\n",
    "Dvotes = df16.loc[(df16['party']=='DEMOCRAT'),:].groupby('county_fips')['candidatevotes'].sum()\n",
    "Dvotes = Dvotes.rename('dem_votes_2016')\n",
    "df = df.merge(Dvotes,left_on='FIPS_left',right_on='county_fips') #df1.merge(df2, left_on='lkey', right_on='rkey\n",
    "\n",
    "Rvotes = df16.loc[(df16['party']=='REPUBLICAN'),:].groupby('county_fips')['candidatevotes'].sum()\n",
    "Rvotes = Rvotes.rename('rep_votes_2016')\n",
    "df = df.merge(Rvotes,left_on='FIPS_left',right_on='county_fips') #df1.merge(df2, left_on='lkey', right_on='rkey\n",
    "\n",
    "print(f\"number of missing values: {df.isna().sum().sum()}\")\n",
    "#datasize\n",
    "print(df.head())\n",
    "print(df.shape)"
   ]
  },
  {
   "cell_type": "markdown",
   "id": "9059dc05",
   "metadata": {},
   "source": [
    "2012 data:"
   ]
  },
  {
   "cell_type": "code",
   "execution_count": 10,
   "id": "f2e509fe",
   "metadata": {},
   "outputs": [
    {
     "name": "stdout",
     "output_type": "stream",
     "text": [
      "number of missing values: 936\n",
      "  STCOFIPS     GNIS       NAME          NAMELSAD GSOURCE LADOPT  LASTUPDATE  \\\n",
      "0    51001  1480091   Accomack   Accomack County       T      N  2014-08-20   \n",
      "1    51003  1675170  Albemarle  Albemarle County       L      Y  2021-03-29   \n",
      "2    51005  1492459  Alleghany  Alleghany County       V      N  2014-09-15   \n",
      "3    51007  1497770     Amelia     Amelia County       T      Y  2021-03-29   \n",
      "4    51009  1480095    Amherst    Amherst County       V      N  2020-09-11   \n",
      "\n",
      "  JURISTYPE     AREASQMI    Shape_Leng  ...  AMZME005 AMZME006  AMZME007  \\\n",
      "0        CO  1195.366291  4.949957e+06  ...      2347     2827      1735   \n",
      "1        CO   725.634334  2.310198e+05  ...      1484     2554      1230   \n",
      "2        CO   449.544769  2.062654e+05  ...      2497     4580      1763   \n",
      "3        CO   360.945234  1.776617e+05  ...       539      973       507   \n",
      "4        CO   478.766949  1.876610e+05  ...      1140      971       246   \n",
      "\n",
      "  AMZME008  dem_votes_2020  rep_votes_2020  dem_votes_2016 rep_votes_2016  \\\n",
      "0    40646            7578            9172            6740           8583   \n",
      "1    18037           42466           20804           33345          19259   \n",
      "2    82799            2243            5859            2166           4874   \n",
      "3     9793            2411            5390            2128           4708   \n",
      "4     8931            5672           11041            5057           9719   \n",
      "\n",
      "  dem_votes_2012 rep_votes_2012  \n",
      "0           7655           8213  \n",
      "1          29757          23297  \n",
      "2           3403           3595  \n",
      "3           2490           4331  \n",
      "4           5900           8876  \n",
      "\n",
      "[5 rows x 236 columns]\n",
      "(133, 236)\n"
     ]
    }
   ],
   "source": [
    "df12 = vdf.loc[ vdf['year']==2012,:] # Only the 2012 data\n",
    "\n",
    "Dvotes = df12.loc[(df12['party']=='DEMOCRAT'),:].groupby('county_fips')['candidatevotes'].sum()\n",
    "Dvotes = Dvotes.rename('dem_votes_2012')\n",
    "df = df.merge(Dvotes,left_on='FIPS_left',right_on='county_fips') #df1.merge(df2, left_on='lkey', right_on='rkey\n",
    "\n",
    "Rvotes = df12.loc[(df12['party']=='REPUBLICAN'),:].groupby('county_fips')['candidatevotes'].sum()\n",
    "Rvotes = Rvotes.rename('rep_votes_2012')\n",
    "df = df.merge(Rvotes,left_on='FIPS_left',right_on='county_fips') #df1.merge(df2, left_on='lkey', right_on='rkey\n",
    "\n",
    "print(f\"number of missing values: {df.isna().sum().sum()}\")\n",
    "#datasize\n",
    "print(df.head())\n",
    "print(df.shape)"
   ]
  },
  {
   "cell_type": "code",
   "execution_count": 12,
   "id": "cddb7e37",
   "metadata": {},
   "outputs": [],
   "source": [
    "#export to csv\n",
    "df.to_csv('./data/full_va_dataset.csv', index=False)"
   ]
  }
 ],
 "metadata": {
  "kernelspec": {
   "display_name": "Python 3 (ipykernel)",
   "language": "python",
   "name": "python3"
  },
  "language_info": {
   "codemirror_mode": {
    "name": "ipython",
    "version": 3
   },
   "file_extension": ".py",
   "mimetype": "text/x-python",
   "name": "python",
   "nbconvert_exporter": "python",
   "pygments_lexer": "ipython3",
   "version": "3.11.1"
  }
 },
 "nbformat": 4,
 "nbformat_minor": 5
}
